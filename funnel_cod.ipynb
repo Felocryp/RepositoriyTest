{
 "cells": [
  {
   "cell_type": "code",
   "execution_count": 10,
   "metadata": {},
   "outputs": [
    {
     "name": "stdout",
     "output_type": "stream",
     "text": [
      "Готово. Файл funnel.csv успешно создан.\n"
     ]
    }
   ],
   "source": [
    "import json\n",
    "\n",
    "def read_purchase_log(file_path):\n",
    "    purchases = {}\n",
    "    with open(file_path, 'r', encoding='utf-8') as f:\n",
    "        next(f)\n",
    "        for line in f:\n",
    "            line = line.strip()\n",
    "            if not line:\n",
    "                continue\n",
    "            data = json.loads(line)\n",
    "            purchases[data['user_id']] = data['category']\n",
    "    return purchases\n",
    "\n",
    "def process_visit_log(input_file, output_file, purchases):\n",
    "    with open(input_file, 'r', encoding='utf-8') as f_in, open(output_file, 'w', encoding='utf-8') as f_out:\n",
    "        header = next(f_in).strip().split(',')\n",
    "        header.append('category')\n",
    "        f_out.write(','.join(header) + '\\n')\n",
    "        \n",
    "        for line in f_in:\n",
    "            line = line.strip().split(',')\n",
    "            user_id = line[0]\n",
    "            if user_id in purchases:\n",
    "                line.append(purchases[user_id])\n",
    "                f_out.write(','.join(line) + '\\n')\n",
    "\n",
    "purchase_log_file = r'Downloads\\purchase_log.txt'\n",
    "visit_log_file = r'Downloads\\visit_log.csv'\n",
    "funnel_file = 'funnel.csv'\n",
    "\n",
    "purchases = read_purchase_log(purchase_log_file)\n",
    "\n",
    "process_visit_log(visit_log_file, funnel_file, purchases)\n",
    "\n",
    "print(\"Готово. Файл funnel.csv успешно создан.\")\n"
   ]
  }
 ],
 "metadata": {
  "kernelspec": {
   "display_name": "Python 3",
   "language": "python",
   "name": "python3"
  },
  "language_info": {
   "codemirror_mode": {
    "name": "ipython",
    "version": 3
   },
   "file_extension": ".py",
   "mimetype": "text/x-python",
   "name": "python",
   "nbconvert_exporter": "python",
   "pygments_lexer": "ipython3",
   "version": "3.10.11"
  }
 },
 "nbformat": 4,
 "nbformat_minor": 2
}
